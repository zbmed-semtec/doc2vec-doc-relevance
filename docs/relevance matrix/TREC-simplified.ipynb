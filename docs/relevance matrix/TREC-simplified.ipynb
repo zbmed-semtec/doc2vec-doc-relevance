{
 "cells": [
  {
   "cell_type": "markdown",
   "metadata": {},
   "source": [
    "# TREC-simplified Relevance Matrix"
   ]
  },
  {
   "cell_type": "code",
   "execution_count": null,
   "metadata": {},
   "outputs": [],
   "source": [
    "import itertools\n",
    "import pandas as pd\n",
    "os.chdir('../Playground/relevance_matrix')\n",
    "from trec_matrix_simplified import load_TREC_data, get_unique_topics, determine_group, prepare_data, save_file"
   ]
  },
  {
   "cell_type": "markdown",
   "metadata": {},
   "source": [
    "This code serves two purposes:\n",
    "1. Create the TREC-pairs TSV file (to be used for TREC-repurposed).\n",
    "2. Create TREC-simplified TSV file."
   ]
  },
  {
   "cell_type": "markdown",
   "metadata": {},
   "source": [
    "#### TREC-pairs"
   ]
  },
  {
   "cell_type": "markdown",
   "metadata": {},
   "source": [
    "Code strategy:\n",
    "\n",
    "1. Load TREC data (TSV file containing topic-to-document relevance).\n",
    "2. Get unique topics from the data.\n",
    "3. For each unique topic, find all the possible combination of pairs of PMIDs and the relevance scores for these pairs.\n",
    "4. Save the 5-column matrix containing to a TSV file."
   ]
  },
  {
   "cell_type": "code",
   "execution_count": null,
   "metadata": {},
   "outputs": [],
   "source": [
    "# Comment out any code calling the methods\n",
    "# Load TREC data \n",
    "input_path = \"../Data/TREC/Relevance_Matrix/TREC.tsv\"\n",
    "trec_df= load_TREC_data(input_path, False)\n",
    "\n",
    "# Get unique topics\n",
    "topics = get_unique_topics(trec_df)\n",
    "# Prepare possible combinations of PMID pairs and their relevance scores\n",
    "output_data = prepare_data(trec_df, topics, False)\n",
    "\n",
    "# Save the data to a TSV file\n",
    "output_path = \"../Data/TREC/Relevance_Matrix/trec_relevance_pairs.tsv\"\n",
    "save_file(output_data, output_path, False)"
   ]
  },
  {
   "cell_type": "markdown",
   "metadata": {},
   "source": [
    "#### TREC-simplified"
   ]
  },
  {
   "cell_type": "markdown",
   "metadata": {},
   "source": [
    "Code strategy:\n",
    "\n",
    "1. Load TREC data (TSV file containing topic-to-document relevance).\n",
    "    - Replace all the relevance scores having value 2 with value 1. \n",
    "2. Get unique topics from the data.\n",
    "3. For each unique topic, find all the possible combination of pairs of PMIDs and the relevance scores for these pairs.\n",
    "4. Determine group for each pair based on the combination of their relevance scores. \n",
    "    - The pair with the relevance score of (1,1) is considered as 'A'. \n",
    "    - The pair with the relevance score of (1,0) or (0,1) is considered as 'B'.\n",
    "    - The pair with the relevance score of (0,0) is considered as 'C'.\n",
    "5. Save the 6-column matrix containing to a TSV file."
   ]
  },
  {
   "cell_type": "code",
   "execution_count": null,
   "metadata": {},
   "outputs": [],
   "source": [
    "# Comment out any code calling the methods\n",
    "# Load TREC data\n",
    "input_path = \"../Data/TREC/Relevance_Matrix/TREC.tsv\"\n",
    "trec_df= load_TREC_data(input_path)\n",
    "\n",
    "# Get unique topics\n",
    "topics = get_unique_topics(trec_df)\n",
    "# Prepare possible combinations of PMID pairs and their relevance scores\n",
    "output_data = prepare_data(trec_df, topics)\n",
    "\n",
    "# Save the data to a TSV file\n",
    "output_path = \"Data/TREC/Relevance_Matrix/trec_simplified_relevance_matrix.tsv\"\n",
    "save_file(output_data, output_path)"
   ]
  }
 ],
 "metadata": {
  "kernelspec": {
   "display_name": "Python 3",
   "language": "python",
   "name": "python3"
  },
  "language_info": {
   "codemirror_mode": {
    "name": "ipython",
    "version": 3
   },
   "file_extension": ".py",
   "mimetype": "text/x-python",
   "name": "python",
   "nbconvert_exporter": "python",
   "pygments_lexer": "ipython3",
   "version": "3.7.3"
  }
 },
 "nbformat": 4,
 "nbformat_minor": 2
}
