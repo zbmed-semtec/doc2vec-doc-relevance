{
 "cells": [
  {
   "cell_type": "markdown",
   "metadata": {},
   "source": [
    "# Cosine Similarity"
   ]
  },
  {
   "cell_type": "markdown",
   "metadata": {},
   "source": [
    "Prerequisites\n",
    "\n",
    "1. Prepare the relevance matrix file containing the pair of PMIDs and the relevance score for that pair.\n",
    "2. Generate the Doc2Vec model, using the [Embeddings Tutorial](https://github.com/zbmed-semtec/doc2vec-doc-relevance/blob/main/Docs/embeddings/Tutorial.ipynb), which will be used to calculate the cosine similarity for the PMID pairs."
   ]
  },
  {
   "cell_type": "code",
   "execution_count": null,
   "metadata": {},
   "outputs": [],
   "source": [
    "import pandas as pd\n",
    "from gensim.models.doc2vec import Doc2Vec\n",
    "os.chdir('../Code')\n",
    "from update_matrix import update_relevance_matrix"
   ]
  },
  {
   "cell_type": "markdown",
   "metadata": {},
   "source": [
    "Code Strategy\n",
    "\n",
    "1. Read the TSV file to obtain the relevance matrix (TREC or RELISH).\n",
    "    - If it is a RELISH relevance matrix, assign column names to it.\n",
    "2. Add the \"Cosine Similarity\" column to the relevance matrix.\n",
    "3. Calculate the cosine similarity for each pair of PMIDs in the relevance matrix.\n",
    "    - Use Gensim model to calculate the similarity between the documents by passing PMIDs as tags to the model.\n",
    "    - Leave the cosine similarity empty if either of the PMIDs is not found in the data set.\n",
    "4. Update the TSV file or save the data to a new TSV file."
   ]
  },
  {
   "cell_type": "code",
   "execution_count": null,
   "metadata": {},
   "outputs": [],
   "source": [
    "# RELISH example\n",
    "update_relevance_matrix(\"../Data/RELISH/Relevance_Matrix/RELISH.tsv\", \n",
    "                        doc2vec_model, \n",
    "                        \"../Data/RELISH/Relevance_Matrix/relish_relevance_matrix_cosine.tsv\", \n",
    "                        \"RELISH\")"
   ]
  }
 ],
 "metadata": {
  "kernelspec": {
   "display_name": "Python 3",
   "language": "python",
   "name": "python3"
  },
  "language_info": {
   "codemirror_mode": {
    "name": "ipython",
    "version": 3
   },
   "file_extension": ".py",
   "mimetype": "text/x-python",
   "name": "python",
   "nbconvert_exporter": "python",
   "pygments_lexer": "ipython3",
   "version": "3.7.3"
  }
 },
 "nbformat": 4,
 "nbformat_minor": 2
}
