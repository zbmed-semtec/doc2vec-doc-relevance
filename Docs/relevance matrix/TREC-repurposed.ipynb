{
 "cells": [
  {
   "cell_type": "markdown",
   "metadata": {},
   "source": [
    "# TREC-repurposed Relevance Matrix"
   ]
  },
  {
   "cell_type": "markdown",
   "metadata": {},
   "source": [
    "Prerequisites\n",
    "\n",
    "1. Prepare the TREC relevance pairs file using the instructions given [here](https://github.com/zbmed-semtec/doc2vec-doc-relevance/blob/main/Docs/relevance%20matrix/TREC-simplified.ipynb)."
   ]
  },
  {
   "cell_type": "code",
   "execution_count": null,
   "metadata": {},
   "outputs": [],
   "source": [
    "import pandas as pd\n",
    "os.chdir('../Playground/relevance_matrix')\n",
    "from trec_repurposed import load_trec_relevance_pairs, get_trec_repurposed_with_topic\n",
    "from trec_repurposed import get_trec_repurposed_data, save_file"
   ]
  },
  {
   "cell_type": "markdown",
   "metadata": {},
   "source": [
    "Code strategy:\n",
    "\n",
    "1. Load TREC relevance pairs.\n",
    "2. Keep the lowest relevance score value out of the two relevance scores for all the PMID pairs.\n",
    "    - Find the lowest relevance scores for all PMID pairs and store those in a new column.\n",
    "    - Delete the columns for the previous relevance scores.\n",
    "3. Remove the topics and keep the PMID pair with the highest relevance score (in case of PMID pairs appearing in multiple topics).\n",
    "4. Save the data to a TSV file."
   ]
  },
  {
   "cell_type": "code",
   "execution_count": null,
   "metadata": {},
   "outputs": [],
   "source": [
    "# Comment out any code calling the methods\n",
    "# Load TREC data \n",
    "input_path = \"Data/TREC/Relevance_Matrix/trec_relevance_pairs.tsv\"\n",
    "trec_df = load_trec_relevance_pairs(input_path)\n",
    "\n",
    "# Keep only the lowest relevance scores for all the pairs\n",
    "trec_df = get_trec_repurposed_with_topic(trec_df)\n",
    "# Remove topics and keep the pairs with the highest relevance score\n",
    "trec_df = get_trec_repurposed_data(trec_df)\n",
    "\n",
    "# Save output\n",
    "output_path = \"Data/TREC/Relevance_Matrix/trec_repurposed_matrix.tsv\"\n",
    "save_file(trec_df, output_path)"
   ]
  }
 ],
 "metadata": {
  "kernelspec": {
   "display_name": "Python 3",
   "language": "python",
   "name": "python3"
  },
  "language_info": {
   "codemirror_mode": {
    "name": "ipython",
    "version": 3
   },
   "file_extension": ".py",
   "mimetype": "text/x-python",
   "name": "python",
   "nbconvert_exporter": "python",
   "pygments_lexer": "ipython3",
   "version": "3.7.3"
  }
 },
 "nbformat": 4,
 "nbformat_minor": 2
}
