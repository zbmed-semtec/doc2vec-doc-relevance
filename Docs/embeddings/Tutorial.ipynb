{
 "cells": [
  {
   "cell_type": "markdown",
   "metadata": {},
   "source": [
    "# Embeddings"
   ]
  },
  {
   "cell_type": "markdown",
   "metadata": {},
   "source": [
    "Prerequisites\n",
    "\n",
    "1. Tokenize and preprocess the RELISH and TREC data sets.\n",
    "    - Use the medline-preprocessing module to retrieve both the RELISH and TREC data sets.\n",
    "    - Make sure to tokenize and preprocess it and save both data sets as .npy files."
   ]
  },
  {
   "cell_type": "code",
   "execution_count": null,
   "metadata": {},
   "outputs": [],
   "source": [
    "import numpy as np\n",
    "import pandas as pd\n",
    "from gensim.models.doc2vec import Doc2Vec, TaggedDocument\n",
    "os.chdir('../Code')\n",
    "from embeddings import process_data_from_npy, createDoc2VecModel, saveDoc2VecModel, create_document_embeddings"
   ]
  },
  {
   "cell_type": "markdown",
   "metadata": {},
   "source": [
    "Code Strategy\n",
    "\n",
    "1. Retrieve the data seperately from TREC or RELISH corpus.\n",
    "    - The data provides us with PMIDs, titles and the abstracts.\n",
    "    - Concatenate each title and the abstract to obtain each document.\n",
    "2. Train a doc2vec model using either the RELISH or TREC data set.\n",
    "    - We use gensim to train the model.\n",
    "    - We use PMIDs as tags for each document during training.\n",
    "    - Outputs a .model file.\n",
    "    - Save the .model file.\n",
    "3. Generate the document embeddings from either the RELISH or TREC data set.\n",
    "    - Retrieve document embeddings using the doc2vec model by providing PMIDs as tags to the model.\n",
    "    - Save the embeddings in the .npy format."
   ]
  },
  {
   "cell_type": "markdown",
   "metadata": {},
   "source": [
    "Retrieve the PMIDs, titles and abstracts and documents from TREC or RELISH data set"
   ]
  },
  {
   "cell_type": "code",
   "execution_count": null,
   "metadata": {},
   "outputs": [],
   "source": [
    "# For RELISH\n",
    "pmids, titles, abstracts, docs = process_data_from_npy(\"../Data/RELISH/TSV/sample.npy\")\n",
    "# For TREC\n",
    "pmids, titles, abstracts, docs = process_data_from_npy(\"../Data/TREC/TSV/sample.npy\")"
   ]
  },
  {
   "cell_type": "markdown",
   "metadata": {},
   "source": [
    "Define the parameter for the Doc2Vec model"
   ]
  },
  {
   "cell_type": "code",
   "execution_count": null,
   "metadata": {},
   "outputs": [],
   "source": [
    "params = {'dm': 0, 'epochs': 5, 'min_count': 1, 'vector_size': 300, 'window': 7, 'workers': 8}"
   ]
  },
  {
   "cell_type": "markdown",
   "metadata": {},
   "source": [
    "Generate and train the Doc2Vec model using either the RELISH or TREC corpus."
   ]
  },
  {
   "cell_type": "code",
   "execution_count": null,
   "metadata": {},
   "outputs": [],
   "source": [
    "model = createDoc2VecModel(pmids, docs, params)"
   ]
  },
  {
   "cell_type": "markdown",
   "metadata": {},
   "source": [
    "Save the Doc2Vec model"
   ]
  },
  {
   "cell_type": "code",
   "execution_count": null,
   "metadata": {},
   "outputs": [],
   "source": [
    "# Create model directory\n",
    "model_directory = '../Data/Models/'\n",
    "os.mkdir(model_directory)\n",
    "model_path = model_directory + 'doc2vec.model'\n",
    "\n",
    "# Save the Doc2Vec model\n",
    "saveDoc2VecModel(model, model_path)"
   ]
  },
  {
   "cell_type": "markdown",
   "metadata": {},
   "source": [
    "Generate the document embeddings from either the RELISH or TREC corpus and save as .npy."
   ]
  },
  {
   "cell_type": "code",
   "execution_count": null,
   "metadata": {},
   "outputs": [],
   "source": [
    "# Create path to save the embeddings\n",
    "embeddings_directory = '../Data/Embeddings/'\n",
    "os.mkdir(embeddings_directory)\n",
    "\n",
    "# Generate and save the embeddings\n",
    "create_document_embeddings(pmids, model, embeddings_directory)"
   ]
  }
 ],
 "metadata": {
  "kernelspec": {
   "display_name": "Python 3",
   "language": "python",
   "name": "python3"
  },
  "language_info": {
   "codemirror_mode": {
    "name": "ipython",
    "version": 3
   },
   "file_extension": ".py",
   "mimetype": "text/x-python",
   "name": "python",
   "nbconvert_exporter": "python",
   "pygments_lexer": "ipython3",
   "version": "3.7.3"
  }
 },
 "nbformat": 4,
 "nbformat_minor": 2
}
